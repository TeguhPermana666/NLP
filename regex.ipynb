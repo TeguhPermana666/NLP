{
 "cells": [
  {
   "cell_type": "code",
   "execution_count": 2,
   "metadata": {},
   "outputs": [
    {
     "name": "stdout",
     "output_type": "stream",
     "text": [
      "d:\\projects\\nlp\n"
     ]
    }
   ],
   "source": [
    "# basic for \"\\\"\n",
    "# 1. \\\\ untuk mematikan arti -> \\n atau \\p\n",
    "file_name = \"d:\\\\projects\\\\nlp\"\n",
    "# print(file_name)\n",
    "#2. menggunakan read pada prefixing r di string\n",
    "file_name = r\"d:\\projects\\nlp\"\n",
    "print(file_name)"
   ]
  },
  {
   "cell_type": "code",
   "execution_count": 3,
   "metadata": {},
   "outputs": [
    {
     "name": "stdout",
     "output_type": "stream",
     "text": [
      "None\n",
      "<re.Match object; span=(7, 8), match='s'>\n",
      "True\n",
      "<re.Match object; span=(2, 3), match='e'>\n",
      "<re.Match object; span=(1, 2), match='1'>\n",
      "None\n"
     ]
    }
   ],
   "source": [
    "# match string on the string\n",
    "import re\n",
    "string = \"gretingss\"\n",
    "#use search (x,y), x key -> y template\n",
    "print(re.search(\"x\",string))\n",
    "print(re.search(\"s\",string))\n",
    "# use in\n",
    "print(\"s\" in string)\n",
    "# character class\n",
    "print(re.search(r\"[aiueo]\",string))\n",
    "print(re.search(r'[0-9]',\"$100\"))\n",
    "print(re.search(r\"[A-Z]\",string))"
   ]
  },
  {
   "cell_type": "markdown",
   "metadata": {},
   "source": [
    "menyatakan bahwa tidak adanya sebuah kata \"x\" pada sebuah string gretings"
   ]
  },
  {
   "cell_type": "code",
   "execution_count": 4,
   "metadata": {},
   "outputs": [
    {
     "name": "stdout",
     "output_type": "stream",
     "text": [
      "<re.Match object; span=(0, 1), match='g'>\n",
      "<re.Match object; span=(0, 1), match='r'>\n",
      "<re.Match object; span=(0, 1), match='e'>\n",
      "<re.Match object; span=(0, 1), match='t'>\n",
      "<re.Match object; span=(0, 1), match='i'>\n",
      "<re.Match object; span=(0, 1), match='n'>\n",
      "<re.Match object; span=(0, 1), match='g'>\n",
      "<re.Match object; span=(0, 1), match='s'>\n",
      "<re.Match object; span=(0, 1), match='s'>\n"
     ]
    }
   ],
   "source": [
    "for i in string:\n",
    "    print(re.search(r\"[a-z]\",i))"
   ]
  },
  {
   "cell_type": "markdown",
   "metadata": {},
   "source": [
    "# acnhor"
   ]
  },
  {
   "cell_type": "code",
   "execution_count": 5,
   "metadata": {},
   "outputs": [
    {
     "name": "stdout",
     "output_type": "stream",
     "text": [
      "None\n",
      "<re.Match object; span=(0, 1), match='a'>\n",
      "<re.Match object; span=(2, 3), match='d'>\n",
      "None\n"
     ]
    }
   ],
   "source": [
    "# anchor character -> \"^\", match on location in beggining and is not match on character\n",
    "print(re.search(r\"^a\",\"bad\"))\n",
    "print(re.search(r\"^a\",\"add\"))\n",
    "# \"$\" ->match on location in end\n",
    "print(re.search(r\"d$\",\"bad\"))\n",
    "print(re.search(r\"a$\",\"add\"))\n",
    "\n"
   ]
  },
  {
   "cell_type": "markdown",
   "metadata": {},
   "source": [
    "# metacharacter"
   ]
  },
  {
   "cell_type": "code",
   "execution_count": 6,
   "metadata": {},
   "outputs": [
    {
     "name": "stdout",
     "output_type": "stream",
     "text": [
      "<re.Match object; span=(1, 2), match='h'>\n",
      "<re.Match object; span=(0, 7), match='[hello]'>\n",
      "<re.Match object; span=(0, 1), match='$'>\n",
      "<re.Match object; span=(0, 2), match='RP'>\n"
     ]
    }
   ],
   "source": [
    "# meta character -> $,[],^\n",
    "print(re.search(r\"[hello]\",\"[hello]\"))\n",
    "print(re.search(r\"\\[hello\\]\",\"[hello]\"))\n",
    "print(re.search(r\"\\$\",\"$100\"))\n",
    "print(re.search(r\"RP\",\"RP10.000\"))"
   ]
  },
  {
   "cell_type": "markdown",
   "metadata": {},
   "source": [
    "# Quantifier\n"
   ]
  },
  {
   "cell_type": "code",
   "execution_count": 7,
   "metadata": {},
   "outputs": [
    {
     "name": "stdout",
     "output_type": "stream",
     "text": [
      "<re.Match object; span=(0, 3), match='abz'>\n",
      "None\n",
      "<re.Match object; span=(0, 7), match='a dan z'>\n",
      "<re.Match object; span=(0, 0), match=''>\n",
      "None\n",
      "<re.Match object; span=(12, 17), match='color'>\n",
      "None\n",
      "<re.Match object; span=(15, 21), match='colour'>\n",
      "None\n"
     ]
    }
   ],
   "source": [
    "# match string yg diawali dengan a dan diakhir dengan z\n",
    "print(re.search(r\"^a.z$\",\"abz\"))\n",
    "print(re.search(r\"^a.b$\",\"a dan z\")) # cant\n",
    "\n",
    "# quantifier\n",
    "\n",
    "# used \"*\"\n",
    "print(re.search(r\"^a.*z$\",\"a dan z\"))\n",
    "print(re.search(r\"^[a-z]*$\", \"\"))#cant match on zero times\n",
    "# used \"+\"\n",
    "print(re.search(r\"^[a-z]+$\", \"\"))\n",
    "#used ?\n",
    "print(re.search(r\"colou?r\",\"what a nice color\")) # search tanpa u -> match\n",
    "print(re.search(r\"colour\",\" what a nice color\")) # not match\n",
    "print(re.search(r\"colou?r\",\"what is a nice colour\"))\n",
    "print(re.search(r\"colou?r\",\"what is a nice shade\"))"
   ]
  },
  {
   "cell_type": "markdown",
   "metadata": {},
   "source": [
    "# validation exercise"
   ]
  },
  {
   "cell_type": "markdown",
   "metadata": {},
   "source": [
    "bool for validation the value"
   ]
  },
  {
   "cell_type": "code",
   "execution_count": 8,
   "metadata": {},
   "outputs": [
    {
     "name": "stdout",
     "output_type": "stream",
     "text": [
      "True\n",
      "True\n"
     ]
    }
   ],
   "source": [
    "# true or false\n",
    "print(bool(re.search(r\"[hello$]\",\"hello\")))\n",
    "print(bool(re.search(r\"\\[hello\\$\\]\",\"[hello$]\")))#[],$ di hitung meta charachternya\n"
   ]
  },
  {
   "cell_type": "markdown",
   "metadata": {},
   "source": [
    "vowels untuk sebuah pengecekan senteces mengandung \"aiueo\""
   ]
  },
  {
   "cell_type": "code",
   "execution_count": 9,
   "metadata": {},
   "outputs": [
    {
     "data": {
      "text/plain": [
       "True"
      ]
     },
     "execution_count": 9,
     "metadata": {},
     "output_type": "execute_result"
    }
   ],
   "source": [
    "def has_vowel(data):\n",
    "    return bool(re.search(r\"[aiueo]\",data))\n",
    "has_vowel(\"hello\")"
   ]
  },
  {
   "cell_type": "code",
   "execution_count": 10,
   "metadata": {},
   "outputs": [
    {
     "data": {
      "text/plain": [
       "True"
      ]
     },
     "execution_count": 10,
     "metadata": {},
     "output_type": "execute_result"
    }
   ],
   "source": [
    "def is_integer(data):\n",
    "    return bool(re.search(r\"[0-9]\",data))\n",
    "is_integer(\"0.0\")"
   ]
  },
  {
   "cell_type": "code",
   "execution_count": 11,
   "metadata": {},
   "outputs": [
    {
     "data": {
      "text/plain": [
       "True"
      ]
     },
     "execution_count": 11,
     "metadata": {},
     "output_type": "execute_result"
    }
   ],
   "source": [
    "def is_fraction(data):\n",
    "    return bool(re.search(r\"[\\/\\-]\",data))\n",
    "is_fraction(\"-999/1\")"
   ]
  },
  {
   "cell_type": "markdown",
   "metadata": {},
   "source": [
    "# sub"
   ]
  },
  {
   "cell_type": "code",
   "execution_count": 23,
   "metadata": {},
   "outputs": [
    {
     "name": "stdout",
     "output_type": "stream",
     "text": [
      "['01-07-2022', '02-07-2022']\n",
      "17\n",
      "45\n",
      "hari ini tanggal monday dan besok adalah monday\n"
     ]
    }
   ],
   "source": [
    "string = \"hari ini tanggal 01-07-2022 dan besok adalah 02-07-2022\"\n",
    "pattern = \"\\d{2}-\\d{2}-\\d{4}\"\n",
    "\n",
    "# take all value yang sama\n",
    "print(re.findall(pattern,string))\n",
    "\n",
    "# take all index value yang sama\n",
    "mo = re.finditer(pattern,string)\n",
    "for intr in mo:\n",
    "    print(intr.start())\n",
    "\n",
    "# replace the word\n",
    "print(re.sub(pattern,\"monday\",string))\n"
   ]
  },
  {
   "cell_type": "markdown",
   "metadata": {},
   "source": [
    "# split"
   ]
  },
  {
   "cell_type": "code",
   "execution_count": 48,
   "metadata": {},
   "outputs": [
    {
     "data": {
      "text/plain": [
       "['Footbal', 'Cricket', 'Golf', 'Tennise']"
      ]
     },
     "execution_count": 48,
     "metadata": {},
     "output_type": "execute_result"
    }
   ],
   "source": [
    "string = \"Footbal,Cricket;Golf,Tennise\"\n",
    "pattern = re.split(r\"[;,\\s]\",string)\n",
    "pattern"
   ]
  }
 ],
 "metadata": {
  "kernelspec": {
   "display_name": "Python 3.9.9 ('env': venv)",
   "language": "python",
   "name": "python3"
  },
  "language_info": {
   "codemirror_mode": {
    "name": "ipython",
    "version": 3
   },
   "file_extension": ".py",
   "mimetype": "text/x-python",
   "name": "python",
   "nbconvert_exporter": "python",
   "pygments_lexer": "ipython3",
   "version": "3.9.9"
  },
  "orig_nbformat": 4,
  "vscode": {
   "interpreter": {
    "hash": "1d9910303eecfe3b6cdcbdaa4d482c9110c4a3a39e4f394d9897f708ec021033"
   }
  }
 },
 "nbformat": 4,
 "nbformat_minor": 2
}
