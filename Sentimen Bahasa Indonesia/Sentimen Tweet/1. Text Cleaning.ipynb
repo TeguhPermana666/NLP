{
 "cells": [
  {
   "cell_type": "code",
   "execution_count": 11,
   "metadata": {},
   "outputs": [],
   "source": [
    "import os\n",
    "os.chdir(r\"D:\\Materi_data-science\\NLP\\Sentimen Bahasa Indonesia\\Sentimen Tweet\\dataset\\txt\")\n",
    "base = \"prastyo-sentiment_posneg.txt\"\n",
    "\n",
    "# Buka input file dan baca baris per baris\n",
    "input_stream = open(base,mode=\"r\", encoding=\"utf-8\")\n",
    "input_stream_lines = input_stream.readlines()\n",
    "input_stream.close()"
   ]
  },
  {
   "cell_type": "code",
   "execution_count": 15,
   "metadata": {},
   "outputs": [],
   "source": [
    "# Pisah teks dan label dari input\n",
    "text = []\n",
    "for line in input_stream_lines:\n",
    "    text.append(line.split(\"\\t\")[0])\n",
    "label = []\n",
    "for line in input_stream_lines:\n",
    "    label.append(line.split(\"\\t\")[1])"
   ]
  },
  {
   "cell_type": "code",
   "execution_count": 28,
   "metadata": {},
   "outputs": [
    {
     "name": "stdout",
     "output_type": "stream",
     "text": [
      "1918 1918\n",
      "\n",
      "input_stream_lines: \n",
      " ['Apapun agama dan kepercayaanmu, sblum tidur, yuk doakan mereka yg dalam prwatan COVID-19, nakes yg menangani, pemerintah dan warga Indonesia agar bersatu visi, bebas dari pandemi ini dalam waktu sesingkat-singkatnya.\\tpos\\n'] \n",
      "\n",
      "text: \n",
      " ['Apapun agama dan kepercayaanmu, sblum tidur, yuk doakan mereka yg dalam prwatan COVID-19, nakes yg menangani, pemerintah dan warga Indonesia agar bersatu visi, bebas dari pandemi ini dalam waktu sesingkat-singkatnya.'] \n",
      "\n",
      "label: \n",
      " ['pos\\n']\n"
     ]
    }
   ],
   "source": [
    "# Check input\n",
    "print(len(input_stream_lines), len(text))\n",
    "\n",
    "# Print sampel terakhir\n",
    "print(\"\\ninput_stream_lines: \\n\", input_stream_lines[-1:],\n",
    "      \"\\n\\ntext: \\n\", text[-1:],\n",
    "      \"\\n\\nlabel: \\n\", label[-1:])"
   ]
  },
  {
   "cell_type": "code",
   "execution_count": 38,
   "metadata": {},
   "outputs": [],
   "source": [
    "# Buat file output\n",
    "os.chdir(r\"D:\\Materi_data-science\\NLP\\Sentimen Bahasa Indonesia\\Sentimen Tweet\\output\")\n",
    "output = os.path.splitext(base)[0] + \"_clean.txt\""
   ]
  },
  {
   "cell_type": "code",
   "execution_count": 39,
   "metadata": {},
   "outputs": [
    {
     "data": {
      "text/plain": [
       "'prastyo-sentiment_posneg_clean.txt'"
      ]
     },
     "execution_count": 39,
     "metadata": {},
     "output_type": "execute_result"
    }
   ],
   "source": [
    "output"
   ]
  },
  {
   "cell_type": "code",
   "execution_count": 43,
   "metadata": {},
   "outputs": [],
   "source": [
    "import re\n",
    "\n",
    "count=0\n",
    "with open(output, 'w') as f:\n",
    "    for line in text:\n",
    "        # Tahap 1:  Non-ASCII => ÃƒÂ¢Ã¢â€šÂ¬Ã‚Â\n",
    "        res = re.sub(r'[^\\x00-\\x7F]+',' ', line)\n",
    "        \n",
    "        # Tahap 2: URLs => URL yang dimulai dengan http://, https://, atau pic.twitter.com/ \n",
    "        # akan dihapus dari teks, dan bagian teks yang tidak berisi URL akan tetap utuh.\n",
    "        res = re.sub(r'http[s]?\\:\\/\\/.[a-zA-Z0-9\\.\\/\\_?=%&#\\-\\+!]+',' ', res)\n",
    "        res = re.sub(r'pic.twitter.com?.[a-zA-Z0-9\\.\\/\\_?=%&#\\-\\+!]+',' ', res)\n",
    "        \n",
    "        # Tahap 3: mentions\n",
    "        res = re.sub(r'\\@([\\w]+)', ' ', res)\n",
    "\n",
    "        # Tahap 4: Tagar\n",
    "        \n",
    "        # 4.1. Hapus Tagar\n",
    "        # res = re.sub('\\#([\\w]+)', ' ', res)\n",
    "        \n",
    "        # 4.2. Konversi tagar ke kalimat (pemisahan string berdasarkan huruf kapital)\n",
    "        res = re.sub(r'((?<=[a-z])[A-Z]|[A-Z](?=[a-z]))', ' \\\\1', res)\n",
    "        \n",
    "        # Tahap 5: Simbol\n",
    "        res = re.sub(r'[!$%^&*@#()_+|~=`{}\\[\\]%\\-:\";\\'<>?,.\\/]', ' ', res)\n",
    "        \n",
    "        # Tahap 6: Angka\n",
    "        res = re.sub(r'[0-9]+','', res)\n",
    "        \n",
    "        # Tahap 7: Koreksi duplikasi tiga karakter beruntun atau lebih (yEAHHHH)\n",
    "        res = re.sub(r'([a-zA-Z])\\1\\1','\\\\1', res)\n",
    "        \n",
    "        # Tahap 8: Spasi ganda atau lebih menjadi satu spasi\n",
    "        res = re.sub(' +', ' ', res)\n",
    "        \n",
    "        # Tahap 9: spasi di awal dan akhir kalimat\n",
    "        res = re.sub(r'^[ ] | [ ]$','', res)\n",
    "        \n",
    "        # Tahap 10: konversi ke karakter kecil\n",
    "        res = res.lower()\n",
    "        \n",
    "        # Write ke file output & kembalikan label ke awal\n",
    "        f.write(str(res+\"\\t\"+label[count]))\n",
    "        count+=1"
   ]
  },
  {
   "cell_type": "code",
   "execution_count": null,
   "metadata": {},
   "outputs": [],
   "source": []
  }
 ],
 "metadata": {
  "kernelspec": {
   "display_name": "Python 3.9.9 ('env': venv)",
   "language": "python",
   "name": "python3"
  },
  "language_info": {
   "codemirror_mode": {
    "name": "ipython",
    "version": 3
   },
   "file_extension": ".py",
   "mimetype": "text/x-python",
   "name": "python",
   "nbconvert_exporter": "python",
   "pygments_lexer": "ipython3",
   "version": "3.9.13"
  },
  "orig_nbformat": 4,
  "vscode": {
   "interpreter": {
    "hash": "1d9910303eecfe3b6cdcbdaa4d482c9110c4a3a39e4f394d9897f708ec021033"
   }
  }
 },
 "nbformat": 4,
 "nbformat_minor": 2
}
